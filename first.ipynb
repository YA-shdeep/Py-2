{
 "cells": [
  {
   "cell_type": "markdown",
   "id": "22f6dc4d",
   "metadata": {},
   "source": [
    "# Got my first code\n"
   ]
  },
  {
   "cell_type": "code",
   "execution_count": 1,
   "id": "ecd5e980",
   "metadata": {},
   "outputs": [
    {
     "name": "stdout",
     "output_type": "stream",
     "text": [
      "Wassup\n"
     ]
    }
   ],
   "source": [
    "print(\"Wassup\")"
   ]
  },
  {
   "cell_type": "code",
   "execution_count": 2,
   "id": "4009b4b7",
   "metadata": {},
   "outputs": [
    {
     "name": "stdout",
     "output_type": "stream",
     "text": [
      "boy gt that correct\n"
     ]
    }
   ],
   "source": [
    "if 5 > 2:\n",
    "    print(\"boy got that correct\")"
   ]
  },
  {
   "cell_type": "code",
   "execution_count": 3,
   "id": "c822b43c",
   "metadata": {},
   "outputs": [
    {
     "name": "stdout",
     "output_type": "stream",
     "text": [
      "yep\n"
     ]
    }
   ],
   "source": [
    "y = 5\n",
    "name= \"Yashdeep\"\n",
    "if 5>4:\n",
    "    print(\"yep\")"
   ]
  },
  {
   "cell_type": "code",
   "execution_count": 4,
   "id": "f1cbf971",
   "metadata": {},
   "outputs": [
    {
     "data": {
      "text/plain": [
       "'Yashdeep'"
      ]
     },
     "execution_count": 4,
     "metadata": {},
     "output_type": "execute_result"
    }
   ],
   "source": [
    "name"
   ]
  },
  {
   "cell_type": "code",
   "execution_count": 5,
   "id": "3dcbcf05",
   "metadata": {},
   "outputs": [
    {
     "data": {
      "text/plain": [
       "5"
      ]
     },
     "execution_count": 5,
     "metadata": {},
     "output_type": "execute_result"
    }
   ],
   "source": [
    "y"
   ]
  },
  {
   "cell_type": "code",
   "execution_count": 4,
   "id": "4dfe0341",
   "metadata": {},
   "outputs": [],
   "source": [
    "L =[\"DNA\",\"RNA\",\"Protein\"]"
   ]
  },
  {
   "cell_type": "code",
   "execution_count": 8,
   "id": "7e65fb81",
   "metadata": {},
   "outputs": [],
   "source": [
    "T=(\"Nucleotide\",\"Mrna\",\"Amino Acid\")\n"
   ]
  },
  {
   "cell_type": "code",
   "execution_count": 9,
   "id": "f9e7318a",
   "metadata": {},
   "outputs": [],
   "source": [
    "D={\"DNA\":\"Nucleotide\",\"RNA\":\"Mrna\",\"Protein\":\"Amino Acid\"}"
   ]
  },
  {
   "cell_type": "code",
   "execution_count": 10,
   "id": "cdbfb279",
   "metadata": {},
   "outputs": [],
   "source": [
    "S={\"Yash\",\"Jaskirat\",\"Goro\"}"
   ]
  },
  {
   "cell_type": "code",
   "execution_count": 17,
   "id": "ec6f3b00",
   "metadata": {},
   "outputs": [],
   "source": [
    "c = 35j+5"
   ]
  },
  {
   "cell_type": "code",
   "execution_count": 20,
   "id": "7d2785e1",
   "metadata": {},
   "outputs": [
    {
     "name": "stdout",
     "output_type": "stream",
     "text": [
      "<class 'dict'>\n"
     ]
    }
   ],
   "source": [
    "print(type(D))"
   ]
  },
  {
   "cell_type": "code",
   "execution_count": 24,
   "id": "b65ec547",
   "metadata": {},
   "outputs": [
    {
     "name": "stdout",
     "output_type": "stream",
     "text": [
      "<class 'int'>\n",
      "<class 'complex'>\n"
     ]
    }
   ],
   "source": [
    "##Type conversion\n",
    "one = 1\n",
    "print(type(one))\n",
    "one_float = complex(one)\n",
    "print(type(one_float))"
   ]
  },
  {
   "cell_type": "code",
   "execution_count": 27,
   "id": "e3206565",
   "metadata": {},
   "outputs": [],
   "source": [
    "## Playing with the string\n",
    "a = '''Hi this is yash trying to code after a long time\n",
    "now some repetition A A A A A A A B B B B B B  B B B  A \n",
    "B C D E F G H I J K L M N O P Q R S T U V W X Y Z '''"
   ]
  },
  {
   "cell_type": "code",
   "execution_count": 28,
   "id": "12f4ec98",
   "metadata": {},
   "outputs": [
    {
     "name": "stdout",
     "output_type": "stream",
     "text": [
      "Hi this is yash trying to code after a long time\n",
      "now some repetition A A A A A A A B B B B B B  B B B  A \n",
      "B C D E F G H I J K L M N O P Q R S T U V W X Y Z \n"
     ]
    }
   ],
   "source": [
    "print(a)"
   ]
  },
  {
   "cell_type": "code",
   "execution_count": null,
   "id": "509ff728",
   "metadata": {},
   "outputs": [],
   "source": []
  }
 ],
 "metadata": {
  "kernelspec": {
   "display_name": "Python 3 (ipykernel)",
   "language": "python",
   "name": "python3"
  },
  "language_info": {
   "codemirror_mode": {
    "name": "ipython",
    "version": 3
   },
   "file_extension": ".py",
   "mimetype": "text/x-python",
   "name": "python",
   "nbconvert_exporter": "python",
   "pygments_lexer": "ipython3",
   "version": "3.11.3"
  }
 },
 "nbformat": 4,
 "nbformat_minor": 5
}
